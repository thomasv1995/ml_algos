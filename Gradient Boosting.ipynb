{
 "cells": [
  {
   "cell_type": "markdown",
   "id": "db6ad8a6-8c7c-4782-8bb7-056bc5acab3d",
   "metadata": {},
   "source": [
    "# Gradient Boosting"
   ]
  },
  {
   "cell_type": "markdown",
   "id": "fad2af8c-ea6d-4c93-88e7-78ea14c800d1",
   "metadata": {},
   "source": [
    "Gradient boosting consists of sequentially building decision trees on the residuals of the previous model and using the predictions of this new tree to additively update the prediction of the previous model. Therefore, gradient boosting builds an additive models that attempts to progressively reduce the errors of the predictions and the overall loss of the latest model.\n",
    "\n",
    "The residuals of each tree represent the direction in which the model’s predictions need to change to reduce the loss — just like a negative gradient in numerical optimization.\n",
    "\n",
    "![](doc/img/gradient_boosting/gradient_boosting_algo_illustration.png)\n",
    "\n",
    "![](doc/img/gradient_boosting/gradient_boosting_algo.png)\n",
    "\n",
    "where $\\gamma$ denotes the prediction of the decision tree"
   ]
  },
  {
   "cell_type": "code",
   "execution_count": 3,
   "id": "ed8a4f09-b970-4238-bc73-24127c156bb2",
   "metadata": {},
   "outputs": [],
   "source": [
    "from sklearn.datasets import load_iris\n",
    "import pandas as pd\n",
    "import numpy as np\n",
    "import math\n",
    "import operator\n",
    "import matplotlib.pyplot as plt"
   ]
  },
  {
   "cell_type": "code",
   "execution_count": 4,
   "id": "f0885bfa-de6e-4be6-ab91-e52398068edf",
   "metadata": {},
   "outputs": [],
   "source": [
    "iris_data= load_iris()\n",
    "full_data = pd.DataFrame(iris_data.data, columns = iris_data.feature_names)\n",
    "\n",
    "full_data[\"sepal_length_category\"] = np.where(full_data['sepal length (cm)'] < 5, \"0\", \"1\")\n",
    "full_data[\"sepal_length_category\"] = np.where(full_data['sepal length (cm)'] >= 6 , \"2\", full_data['sepal_length_category'])\n",
    "\n",
    "full_data[\"petal_length_category\"] = np.where(full_data['petal length (cm)'] < 2, \"0\", \"1\")\n",
    "full_data[\"petal_length_category\"] = np.where(full_data['petal length (cm)'] >= 5 , \"2\", full_data['petal_length_category'])\n",
    "\n",
    "full_data.drop(columns = [\"sepal length (cm)\", \"petal length (cm)\"], inplace = True)\n",
    "full_data[\"Iris\"] = iris_data.target"
   ]
  },
  {
   "cell_type": "code",
   "execution_count": 11,
   "id": "1d7801c0-1dbe-45c5-b7d6-2ad1240e4c31",
   "metadata": {},
   "outputs": [
    {
     "data": {
      "text/html": [
       "<div>\n",
       "<style scoped>\n",
       "    .dataframe tbody tr th:only-of-type {\n",
       "        vertical-align: middle;\n",
       "    }\n",
       "\n",
       "    .dataframe tbody tr th {\n",
       "        vertical-align: top;\n",
       "    }\n",
       "\n",
       "    .dataframe thead th {\n",
       "        text-align: right;\n",
       "    }\n",
       "</style>\n",
       "<table border=\"1\" class=\"dataframe\">\n",
       "  <thead>\n",
       "    <tr style=\"text-align: right;\">\n",
       "      <th></th>\n",
       "      <th>sepal width (cm)</th>\n",
       "      <th>petal width (cm)</th>\n",
       "      <th>sepal_length_category</th>\n",
       "      <th>petal_length_category</th>\n",
       "      <th>Iris</th>\n",
       "    </tr>\n",
       "  </thead>\n",
       "  <tbody>\n",
       "    <tr>\n",
       "      <th>0</th>\n",
       "      <td>3.5</td>\n",
       "      <td>0.2</td>\n",
       "      <td>1</td>\n",
       "      <td>0</td>\n",
       "      <td>0</td>\n",
       "    </tr>\n",
       "    <tr>\n",
       "      <th>1</th>\n",
       "      <td>3.0</td>\n",
       "      <td>0.2</td>\n",
       "      <td>0</td>\n",
       "      <td>0</td>\n",
       "      <td>0</td>\n",
       "    </tr>\n",
       "    <tr>\n",
       "      <th>2</th>\n",
       "      <td>3.2</td>\n",
       "      <td>0.2</td>\n",
       "      <td>0</td>\n",
       "      <td>0</td>\n",
       "      <td>0</td>\n",
       "    </tr>\n",
       "    <tr>\n",
       "      <th>3</th>\n",
       "      <td>3.1</td>\n",
       "      <td>0.2</td>\n",
       "      <td>0</td>\n",
       "      <td>0</td>\n",
       "      <td>0</td>\n",
       "    </tr>\n",
       "    <tr>\n",
       "      <th>4</th>\n",
       "      <td>3.6</td>\n",
       "      <td>0.2</td>\n",
       "      <td>1</td>\n",
       "      <td>0</td>\n",
       "      <td>0</td>\n",
       "    </tr>\n",
       "    <tr>\n",
       "      <th>...</th>\n",
       "      <td>...</td>\n",
       "      <td>...</td>\n",
       "      <td>...</td>\n",
       "      <td>...</td>\n",
       "      <td>...</td>\n",
       "    </tr>\n",
       "    <tr>\n",
       "      <th>145</th>\n",
       "      <td>3.0</td>\n",
       "      <td>2.3</td>\n",
       "      <td>2</td>\n",
       "      <td>2</td>\n",
       "      <td>2</td>\n",
       "    </tr>\n",
       "    <tr>\n",
       "      <th>146</th>\n",
       "      <td>2.5</td>\n",
       "      <td>1.9</td>\n",
       "      <td>2</td>\n",
       "      <td>2</td>\n",
       "      <td>2</td>\n",
       "    </tr>\n",
       "    <tr>\n",
       "      <th>147</th>\n",
       "      <td>3.0</td>\n",
       "      <td>2.0</td>\n",
       "      <td>2</td>\n",
       "      <td>2</td>\n",
       "      <td>2</td>\n",
       "    </tr>\n",
       "    <tr>\n",
       "      <th>148</th>\n",
       "      <td>3.4</td>\n",
       "      <td>2.3</td>\n",
       "      <td>2</td>\n",
       "      <td>2</td>\n",
       "      <td>2</td>\n",
       "    </tr>\n",
       "    <tr>\n",
       "      <th>149</th>\n",
       "      <td>3.0</td>\n",
       "      <td>1.8</td>\n",
       "      <td>1</td>\n",
       "      <td>2</td>\n",
       "      <td>2</td>\n",
       "    </tr>\n",
       "  </tbody>\n",
       "</table>\n",
       "<p>150 rows × 5 columns</p>\n",
       "</div>"
      ],
      "text/plain": [
       "     sepal width (cm)  petal width (cm) sepal_length_category  \\\n",
       "0                 3.5               0.2                     1   \n",
       "1                 3.0               0.2                     0   \n",
       "2                 3.2               0.2                     0   \n",
       "3                 3.1               0.2                     0   \n",
       "4                 3.6               0.2                     1   \n",
       "..                ...               ...                   ...   \n",
       "145               3.0               2.3                     2   \n",
       "146               2.5               1.9                     2   \n",
       "147               3.0               2.0                     2   \n",
       "148               3.4               2.3                     2   \n",
       "149               3.0               1.8                     1   \n",
       "\n",
       "    petal_length_category  Iris  \n",
       "0                       0     0  \n",
       "1                       0     0  \n",
       "2                       0     0  \n",
       "3                       0     0  \n",
       "4                       0     0  \n",
       "..                    ...   ...  \n",
       "145                     2     2  \n",
       "146                     2     2  \n",
       "147                     2     2  \n",
       "148                     2     2  \n",
       "149                     2     2  \n",
       "\n",
       "[150 rows x 5 columns]"
      ]
     },
     "execution_count": 11,
     "metadata": {},
     "output_type": "execute_result"
    }
   ],
   "source": [
    "full_data"
   ]
  },
  {
   "cell_type": "markdown",
   "id": "e6309ce3-1ad2-45de-a61b-6feb43c2f15a",
   "metadata": {},
   "source": [
    "## Regression"
   ]
  },
  {
   "cell_type": "markdown",
   "id": "24e88eb0-6b55-4fac-a3b8-4713c7fa3454",
   "metadata": {},
   "source": [
    "Initialize model with constant value : $$F_{0}(x)=argmin(\\gamma) \\sum_{i=1}^{n}{L(y_{i}, \\gamma})$$\n",
    "\n",
    "This comes down to finding the predicted value $\\gamma$ that minimizes the loss function, in this case, the mean squared error. Turns out this is simply the mean of y."
   ]
  },
  {
   "cell_type": "code",
   "execution_count": 21,
   "id": "bf33b61f-4492-46f5-865f-835f65bae7e4",
   "metadata": {},
   "outputs": [],
   "source": [
    "y = full_data[\"sepal width (cm)\"]\n",
    "f_0 = y.mean()"
   ]
  },
  {
   "cell_type": "code",
   "execution_count": null,
   "id": "e5663427-3c0c-4746-a89b-f1a3a46b4046",
   "metadata": {},
   "outputs": [],
   "source": [
    "f_0"
   ]
  },
  {
   "cell_type": "code",
   "execution_count": 20,
   "id": "360ed82d-4614-4d17-849a-9dc4720eb5a1",
   "metadata": {},
   "outputs": [
    {
     "ename": "AttributeError",
     "evalue": "module 'matplotlib.pyplot' has no attribute 'line'",
     "output_type": "error",
     "traceback": [
      "\u001b[31m---------------------------------------------------------------------------\u001b[39m",
      "\u001b[31mAttributeError\u001b[39m                            Traceback (most recent call last)",
      "\u001b[36mCell\u001b[39m\u001b[36m \u001b[39m\u001b[32mIn[20]\u001b[39m\u001b[32m, line 2\u001b[39m\n\u001b[32m      1\u001b[39m plt.scatter(y, full_data[\u001b[33m\"\u001b[39m\u001b[33mpetal width (cm)\u001b[39m\u001b[33m\"\u001b[39m])\n\u001b[32m----> \u001b[39m\u001b[32m2\u001b[39m \u001b[43mplt\u001b[49m\u001b[43m.\u001b[49m\u001b[43mline\u001b[49m(f_0)\n",
      "\u001b[31mAttributeError\u001b[39m: module 'matplotlib.pyplot' has no attribute 'line'"
     ]
    },
    {
     "data": {
      "image/png": "[encoded data removed]",
      "text/plain": [
       "<Figure size 640x480 with 1 Axes>"
      ]
     },
     "metadata": {},
     "output_type": "display_data"
    }
   ],
   "source": [
    "plt.scatter(y, full_data[\"petal width (cm)\"])\n",
    "plt.line(f_0)"
   ]
  },
  {
   "cell_type": "code",
   "execution_count": null,
   "id": "4856ac17-fd96-4cf3-9ae8-4d4721ecf46e",
   "metadata": {},
   "outputs": [],
   "source": []
  }
 ],
 "metadata": {
  "kernelspec": {
   "display_name": "ml_algos",
   "language": "python",
   "name": "ml_algos"
  },
  "language_info": {
   "codemirror_mode": {
    "name": "ipython",
    "version": 3
   },
   "file_extension": ".py",
   "mimetype": "text/x-python",
   "name": "python",
   "nbconvert_exporter": "python",
   "pygments_lexer": "ipython3",
   "version": "3.12.3"
  }
 },
 "nbformat": 4,
 "nbformat_minor": 5
}
