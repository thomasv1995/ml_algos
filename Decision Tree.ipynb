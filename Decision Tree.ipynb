{
 "cells": [
  {
   "cell_type": "code",
   "execution_count": 69,
   "metadata": {},
   "outputs": [],
   "source": [
    "from sklearn.datasets import load_iris\n",
    "import pandas as pd\n",
    "import numpy as np\n",
    "import math\n",
    "import operator\n",
    "import matplotlib.pyplot as plt"
   ]
  },
  {
   "cell_type": "code",
   "execution_count": 2,
   "metadata": {},
   "outputs": [],
   "source": [
    "iris_data= load_iris()\n",
    "full_data = pd.DataFrame(iris_data.data, columns = iris_data.feature_names)\n",
    "\n",
    "full_data[\"sepal_length_category\"] = np.where(full_data['sepal length (cm)'] < 5, \"0\", \"1\")\n",
    "full_data[\"sepal_length_category\"] = np.where(full_data['sepal length (cm)'] >= 6 , \"2\", full_data['sepal_length_category'])\n",
    "\n",
    "full_data[\"petal_length_category\"] = np.where(full_data['petal length (cm)'] < 2, \"0\", \"1\")\n",
    "full_data[\"petal_length_category\"] = np.where(full_data['petal length (cm)'] >= 5 , \"2\", full_data['petal_length_category'])\n",
    "\n",
    "full_data.drop(columns = [\"sepal length (cm)\", \"petal length (cm)\"], inplace = True)\n",
    "full_data[\"Iris\"] = iris_data.target"
   ]
  },
  {
   "cell_type": "markdown",
   "metadata": {},
   "source": [
    "# Decision Tree using ID3"
   ]
  },
  {
   "cell_type": "code",
   "execution_count": 3,
   "metadata": {},
   "outputs": [],
   "source": [
    "#https://www.youtube.com/watch?v=OD8aO4ovIBo&t=81s"
   ]
  },
  {
   "cell_type": "markdown",
   "metadata": {},
   "source": [
    "Calculate the entropy for a given attribute $A$'s class:\n",
    "\n",
    "$$Entropy(c_1, c_2, ..., c_n) = - \\frac{c_1}{c_1 + c_2 + ... + c_n}\\log_n(\\frac{c_1}{c_1 + c_2 + ... + c_n}) - \\frac{c_2}{c_1 + c_2 + ... + c_n}\\log_n(\\frac{c_2}{c_1 + c_2 + ... + c_n}) - ... - \\frac{c_n}{c_1 + c_2 + ... + c_n}\\log_n(\\frac{c_n}{c_1 + c_2 + ... + c_n})$$  \n",
    "\n",
    "where $c_i$ is the number of instances of class $i$ of the target variable\n",
    "\n",
    "\n"
   ]
  },
  {
   "cell_type": "markdown",
   "metadata": {},
   "source": [
    "Then, calculate the expected information of attribute $A$, $E(A)$:\n",
    "\n",
    "$$E(A) = \\sum\\limits_{i=1}^v[ \\frac{c_{1,i} + c_{2,i} + ... + c_{n,i}}{c_1 + c_2 + ... + c_n}Entropy(c_{1,i}, c_{2,i}, ..., c_{n,i})]$$\n",
    "\n",
    "where $i$ is the class of attribute $A$ and $c_{j,i}$ is the number of instances of the target class $j$ within $i$"
   ]
  },
  {
   "cell_type": "markdown",
   "metadata": {},
   "source": [
    "Information gained by branching on attribute $A$:  \n",
    "     \n",
    "$$gain(A) = Entropy(C_1, C_2, ..., C_n) - E(A)$$  \n",
    "\n",
    "where the entropy above is the entropy of the target variable over the whole dataset"
   ]
  },
  {
   "cell_type": "code",
   "execution_count": 4,
   "metadata": {},
   "outputs": [],
   "source": [
    "def get_entropy(target_data_sub, target_classes):\n",
    "    entropy = 0\n",
    "    n = len(target_data_sub)\n",
    "    for target_class in target_classes:\n",
    "        target_class_count = len(target_data_sub[target_data_sub == target_class])\n",
    "        if target_class_count > 0:\n",
    "            entropy += - (target_class_count / n) * math.log(target_class_count / n, len(target_classes))\n",
    "    return entropy"
   ]
  },
  {
   "cell_type": "code",
   "execution_count": 5,
   "metadata": {},
   "outputs": [],
   "source": [
    "def get_cutoffs(attribute):\n",
    "    \"\"\"\n",
    "    for continuous variables, sort all values in ascending order an get the mean value between each adjacent point,\n",
    "    or cutoffs. Return the list of unique cutoff values \n",
    "    \"\"\"\n",
    "    \n",
    "    cutoffs = np.array([])\n",
    "    attribute_copy = attribute.sort_values().reset_index(drop=True).copy()\n",
    "    for i in range(len(attribute_copy) - 1):\n",
    "        cutoffs = np.append(cutoffs, (attribute_copy[i + 1] + attribute_copy[i]) / 2)\n",
    "    return np.unique(cutoffs)"
   ]
  },
  {
   "cell_type": "code",
   "execution_count": 27,
   "metadata": {},
   "outputs": [],
   "source": [
    "def get_expected_information(attribute_name, data, continuous = False):\n",
    "    \"\"\"\n",
    "    Args:\n",
    "        - attribute_name: name of attribute whose expected information we ar getting\n",
    "        - data: data used for the given tree node (i.e., if root node, data = full_data)\n",
    "        - continuous: boolean value to check if the variable is categorical or continuous\n",
    "        \n",
    "    Returns: expected information for the given attribtue\n",
    "    \"\"\"\n",
    "    \n",
    "    target_classes = set(full_data[\"Iris\"])\n",
    "    attribute_data = data[attribute_name].copy()\n",
    "    exp_info = 0\n",
    "    n_observations = len(attribute_data)\n",
    "    \n",
    "    if continuous:\n",
    "        \n",
    "        cutoffs = get_cutoffs(attribute_data)\n",
    "        min_exp_info = float(\"inf\")\n",
    "        min_cf = 0\n",
    "        \n",
    "        for cf in cutoffs:\n",
    "            \n",
    "            target_data_left = data.loc[data[attribute_name] <= cf, \"Iris\"]\n",
    "            left_entropy = get_entropy(target_data_left, target_classes)\n",
    "            n_left = target_data_left.shape[0]\n",
    "            \n",
    "            target_data_right = data.loc[data[attribute_name] > cf, \"Iris\"]\n",
    "            right_entropy = get_entropy(target_data_right, target_classes)\n",
    "            n_right = target_data_right.shape[0]\n",
    "            \n",
    "            exp_info = (n_left / n_observations) * left_entropy + (n_right / n_observations) * right_entropy\n",
    "            \n",
    "            if exp_info < min_exp_info:\n",
    "                min_exp_info = exp_info\n",
    "                min_cf = cf\n",
    "                \n",
    "        return [min_exp_info, min_cf]\n",
    "    \n",
    "    else:\n",
    "        \n",
    "        for attr_class in set(attribute_data):\n",
    "            \n",
    "            n_attr_class = data[data[attribute_data.name] == attr_class].shape[0]\n",
    "            target_data = data.loc[data[attribute_name] == attr_class, \"Iris\"]\n",
    "            exp_info += (n_attr_class / n_observations) * get_entropy(target_data, target_classes)\n",
    "            \n",
    "        return [exp_info, None]"
   ]
  },
  {
   "cell_type": "code",
   "execution_count": 7,
   "metadata": {},
   "outputs": [],
   "source": [
    "# get entropy of target class\n",
    "def get_target_entropy(target_data):\n",
    "    \"\"\"\n",
    "    Args:\n",
    "        - target_data: pd series with data from target variable\n",
    "    \"\"\"\n",
    "    target_entropy = 0\n",
    "    n = target_data.shape[0]\n",
    "    for target_class in set(target_data):\n",
    "        target_class_count = target_data[target_data == target_class].shape[0]\n",
    "        target_entropy -= (target_class_count / n) * math.log(target_class_count / n, len(set(target_data)))\n",
    "    return target_entropy"
   ]
  },
  {
   "cell_type": "code",
   "execution_count": 8,
   "metadata": {
    "scrolled": true
   },
   "outputs": [],
   "source": [
    "target_entropy = get_target_entropy(full_data[\"Iris\"])"
   ]
  },
  {
   "cell_type": "code",
   "execution_count": 45,
   "metadata": {},
   "outputs": [
    {
     "name": "stdout",
     "output_type": "stream",
     "text": [
      "sepal width (cm) information gain: 0.17863261057596602, cutoff: 3.3\n",
      "petal width (cm) information gain: 0.579380164285695, cutoff: 0.8\n",
      "sepal_length_category information gain:  0.3367224570251872\n",
      "petal_length_category information gain:  0.8357697892170907\n"
     ]
    }
   ],
   "source": [
    "print(f\"sepal width (cm) information gain: {target_entropy - get_expected_information('sepal width (cm)', full_data, True)[0]}, cutoff: {get_expected_information('sepal width (cm)', full_data, True)[1]}\")\n",
    "print(f\"petal width (cm) information gain: {target_entropy - get_expected_information('petal width (cm)', full_data, True)[0]}, cutoff: {get_expected_information('petal width (cm)', full_data, True)[1]}\")\n",
    "\n",
    "print('sepal_length_category information gain: ',target_entropy - \n",
    "      get_expected_information('sepal_length_category', full_data)[0] )\n",
    "print('petal_length_category information gain: ',target_entropy - \n",
    "      get_expected_information('petal_length_category', full_data)[0] )"
   ]
  },
  {
   "cell_type": "code",
   "execution_count": 55,
   "metadata": {},
   "outputs": [],
   "source": [
    "def is_continuous(data):\n",
    "    return True if type(data[0]) != str else False"
   ]
  },
  {
   "cell_type": "code",
   "execution_count": 56,
   "metadata": {},
   "outputs": [],
   "source": [
    "def branch_on(data):\n",
    "    \"\"\"\n",
    "    get variable with highest information gain to branch on\n",
    "    \"\"\"\n",
    "    gains = dict()\n",
    "    target_entropy = get_target_entropy(data[\"Iris\"])\n",
    "    for column in set(data.columns).difference(set([\"Iris\"])):\n",
    "        continuous = is_continuous(data[column])\n",
    "        gains[column] = target_entropy - get_expected_information(column, data, continuous)[0]\n",
    "    return max(gains.items(), key=operator.itemgetter(1))[0]"
   ]
  },
  {
   "cell_type": "code",
   "execution_count": 57,
   "metadata": {},
   "outputs": [
    {
     "data": {
      "text/plain": [
       "'petal_length_category'"
      ]
     },
     "execution_count": 57,
     "metadata": {},
     "output_type": "execute_result"
    }
   ],
   "source": [
    "branch_on(full_data)"
   ]
  },
  {
   "cell_type": "code",
   "execution_count": 66,
   "metadata": {},
   "outputs": [],
   "source": [
    "class Node:\n",
    "    \n",
    "    def __init__(self, variable_name, edges, parent, continuous = False):\n",
    "        self.variable_name = variable_name\n",
    "        self.edges = edges\n",
    "        self.parent = parent\n",
    "        self.continuous = continuous\n",
    "        self.children = []\n",
    "        \n",
    "    \n",
    "    def get_children(self):\n",
    "        return self.children\n",
    "    \n",
    "    def get_parent(self):\n",
    "        return self.parent\n",
    "    \n",
    "    def add_child(self, node):\n",
    "        self.children.append(node)\n",
    "        \n",
    "    def is_root(self):\n",
    "        return True if not self.parent else False\n",
    "\n",
    "class Edge:\n",
    "    \n",
    "    def __init__(self, value):\n",
    "        self.value = value\n",
    "    \n",
    "    def get_value(self):\n",
    "        return self.value\n",
    "    \n",
    "    \n",
    "class DecisionTree:\n",
    "    \n",
    "    def __init__(self, root):\n",
    "        self.root = root\n",
    "        \n",
    "      "
   ]
  },
  {
   "cell_type": "code",
   "execution_count": 67,
   "metadata": {},
   "outputs": [],
   "source": [
    "root = Node(\"petal_length_category\", [Edge(value) for value in set(full_data[\"petal_length_category\"])], None)"
   ]
  },
  {
   "cell_type": "code",
   "execution_count": 68,
   "metadata": {},
   "outputs": [
    {
     "data": {
      "text/plain": [
       "True"
      ]
     },
     "execution_count": 68,
     "metadata": {},
     "output_type": "execute_result"
    }
   ],
   "source": [
    "root.is_root()"
   ]
  },
  {
   "cell_type": "code",
   "execution_count": 12,
   "metadata": {},
   "outputs": [
    {
     "data": {
      "text/plain": [
       "DecisionTreeClassifier(ccp_alpha=0.0, class_weight=None, criterion='entropy',\n",
       "                       max_depth=None, max_features=None, max_leaf_nodes=None,\n",
       "                       min_impurity_decrease=0.0, min_impurity_split=None,\n",
       "                       min_samples_leaf=1, min_samples_split=2,\n",
       "                       min_weight_fraction_leaf=0.0, presort='deprecated',\n",
       "                       random_state=None, splitter='best')"
      ]
     },
     "execution_count": 12,
     "metadata": {},
     "output_type": "execute_result"
    }
   ],
   "source": [
    "from sklearn import tree\n",
    "\n",
    "\n",
    "\n",
    "dt = tree.DecisionTreeClassifier(criterion = \"entropy\")\n",
    "dt.fit(full_data[['petal width (cm)', 'petal width (cm)', 'sepal_length_category', 'petal_length_category']], full_data[\"Iris\"])"
   ]
  },
  {
   "cell_type": "code",
   "execution_count": 23,
   "metadata": {},
   "outputs": [
    {
     "data": {
      "text/plain": [
       "[Text(167.4, 199.32, 'X[0] <= 0.8\\nentropy = 1.585\\nsamples = 150\\nvalue = [50, 50, 50]'),\n",
       " Text(145.08, 163.07999999999998, 'entropy = 0.0\\nsamples = 50\\nvalue = [50, 0, 0]'),\n",
       " Text(189.72, 163.07999999999998, 'X[1] <= 1.75\\nentropy = 1.0\\nsamples = 100\\nvalue = [0, 50, 50]'),\n",
       " Text(89.28, 126.83999999999999, 'X[3] <= 1.5\\nentropy = 0.445\\nsamples = 54\\nvalue = [0, 49, 5]'),\n",
       " Text(44.64, 90.6, 'X[1] <= 1.65\\nentropy = 0.146\\nsamples = 48\\nvalue = [0, 47, 1]'),\n",
       " Text(22.32, 54.359999999999985, 'entropy = 0.0\\nsamples = 47\\nvalue = [0, 47, 0]'),\n",
       " Text(66.96000000000001, 54.359999999999985, 'entropy = 0.0\\nsamples = 1\\nvalue = [0, 0, 1]'),\n",
       " Text(133.92000000000002, 90.6, 'X[1] <= 1.55\\nentropy = 0.918\\nsamples = 6\\nvalue = [0, 2, 4]'),\n",
       " Text(111.6, 54.359999999999985, 'entropy = 0.0\\nsamples = 3\\nvalue = [0, 0, 3]'),\n",
       " Text(156.24, 54.359999999999985, 'X[0] <= 1.65\\nentropy = 0.918\\nsamples = 3\\nvalue = [0, 2, 1]'),\n",
       " Text(133.92000000000002, 18.119999999999976, 'entropy = 1.0\\nsamples = 2\\nvalue = [0, 1, 1]'),\n",
       " Text(178.56, 18.119999999999976, 'entropy = 0.0\\nsamples = 1\\nvalue = [0, 1, 0]'),\n",
       " Text(290.16, 126.83999999999999, 'X[3] <= 1.5\\nentropy = 0.151\\nsamples = 46\\nvalue = [0, 1, 45]'),\n",
       " Text(267.84000000000003, 90.6, 'X[2] <= 1.5\\nentropy = 0.65\\nsamples = 6\\nvalue = [0, 1, 5]'),\n",
       " Text(245.52, 54.359999999999985, 'X[1] <= 1.9\\nentropy = 1.0\\nsamples = 2\\nvalue = [0, 1, 1]'),\n",
       " Text(223.2, 18.119999999999976, 'entropy = 0.0\\nsamples = 1\\nvalue = [0, 1, 0]'),\n",
       " Text(267.84000000000003, 18.119999999999976, 'entropy = 0.0\\nsamples = 1\\nvalue = [0, 0, 1]'),\n",
       " Text(290.16, 54.359999999999985, 'entropy = 0.0\\nsamples = 4\\nvalue = [0, 0, 4]'),\n",
       " Text(312.48, 90.6, 'entropy = 0.0\\nsamples = 40\\nvalue = [0, 0, 40]')]"
      ]
     },
     "execution_count": 23,
     "metadata": {},
     "output_type": "execute_result"
    },
    {
     "data": {
      "image/png": "[encoded data removed]",
      "text/plain": [
       "<Figure size 432x288 with 1 Axes>"
      ]
     },
     "metadata": {
      "needs_background": "light"
     },
     "output_type": "display_data"
    }
   ],
   "source": [
    "tree.plot_tree(dt)"
   ]
  },
  {
   "cell_type": "code",
   "execution_count": 22,
   "metadata": {},
   "outputs": [],
   "source": [
    "root = Node([Edge(value) for value in set(full_data[\"petal_length_category\"])], None)\n",
    "decision_tree = DecisionTree(root)"
   ]
  },
  {
   "cell_type": "code",
   "execution_count": 87,
   "metadata": {},
   "outputs": [
    {
     "data": {
      "text/plain": [
       "[<matplotlib.lines.Line2D at 0x1a18a55a50>]"
      ]
     },
     "execution_count": 87,
     "metadata": {},
     "output_type": "execute_result"
    },
    {
     "data": {
      "image/png": "[encoded data removed]",
      "text/plain": [
       "<Figure size 432x288 with 1 Axes>"
      ]
     },
     "metadata": {
      "needs_background": "light"
     },
     "output_type": "display_data"
    }
   ],
   "source": [
    "\n",
    "plt.plot([1,1], [2,1], color=\"green\")\n",
    "plt.plot([2,1], [2,2], color=\"green\")\n",
    "plt.plot([1,2], [1,1], color=\"green\")\n",
    "plt.plot([2,2], [1,2], color=\"green\")\n",
    "plt.text(1.25, 1.5, \"petal_length_category\")\n",
    "plt.plot([1.8, 2], [1, 0], color=\"black\")"
   ]
  },
  {
   "cell_type": "code",
   "execution_count": null,
   "metadata": {},
   "outputs": [],
   "source": []
  }
 ],
 "metadata": {
  "kernelspec": {
   "display_name": "Python 3 (ipykernel)",
   "language": "python",
   "name": "python3"
  },
  "language_info": {
   "codemirror_mode": {
    "name": "ipython",
    "version": 3
   },
   "file_extension": ".py",
   "mimetype": "text/x-python",
   "name": "python",
   "nbconvert_exporter": "python",
   "pygments_lexer": "ipython3",
   "version": "3.11.9"
  }
 },
 "nbformat": 4,
 "nbformat_minor": 4
}
